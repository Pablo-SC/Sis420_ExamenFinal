{
  "nbformat": 4,
  "nbformat_minor": 0,
  "metadata": {
    "colab": {
      "provenance": []
    },
    "kernelspec": {
      "name": "python3",
      "display_name": "Python 3"
    },
    "language_info": {
      "name": "python"
    }
  },
  "cells": [
    {
      "cell_type": "code",
      "source": [
        "#######################################\n",
        "## SIS 420                           ##\n",
        "## Alumno: Sanchez Calvimontes Pablo ##\n",
        "## Carrera: Ingenieria de Sistemas   ##\n",
        "#######################################\n",
        "\n",
        "# se uso el dataset de:\n",
        "# https://www.kaggle.com/datasets/itsnahm/data-house\n",
        "\n",
        "# en este data set podemos ver que existen columnas que no son utiles\n",
        "# asi que se pocedio a eliminarlas\n",
        "# las columnas \"id\", \"unnamed\"  fueron las columnas que se eliminaron\n",
        "\n",
        "# este data set tiene orgininalmente 22 columnas\n",
        "# unnamed\n",
        "#id\n",
        "# date\n",
        "# price\n",
        "# bedrooms\n",
        "# bathrooms\n",
        "# sqft_living\n",
        "# sqft_lot\n",
        "# floors\n",
        "# waterfront\n",
        "# view\n",
        "# condition\n",
        "# grade\n",
        "# sqft_above\n",
        "# sqft_basement\n",
        "# yr_built\n",
        "# yr_renovated\n",
        "# zipcode\n",
        "# lat\n",
        "# long\n",
        "# sqft_living15\n",
        "# sqft_lot15\n"
      ],
      "metadata": {
        "id": "OwlyfWXpGAch"
      },
      "execution_count": null,
      "outputs": []
    },
    {
      "cell_type": "code",
      "source": [
        "import random\n",
        "# utilizado para la manipulación de directorios y rutas\n",
        "import os\n",
        "\n",
        "# Cálculo científico y vectorial para python\n",
        "import numpy as np\n",
        "\n",
        "# Libreria para graficos\n",
        "from matplotlib import pyplot\n",
        "\n",
        "# Modulo de optimizacion en scipy\n",
        "from scipy import optimize\n",
        "\n",
        "# le dice a matplotlib que incruste gráficos en el cuaderno\n",
        "%matplotlib inline"
      ],
      "metadata": {
        "id": "HwY-8eOWeesL"
      },
      "execution_count": null,
      "outputs": []
    },
    {
      "cell_type": "code",
      "source": [
        "class MLP:\n",
        "    def __init__(self, layers):\n",
        "        # el MLP es una lista de capas\n",
        "        self.layers = layers\n",
        "\n",
        "    def __call__(self, x):\n",
        "        # calculamos la salida del modelo aplicando\n",
        "        # cada capa de manera secuencial\n",
        "        for layer in self.layers:\n",
        "            x = layer(x)\n",
        "        return x"
      ],
      "metadata": {
        "id": "HefqynDcbIr7"
      },
      "execution_count": null,
      "outputs": []
    },
    {
      "cell_type": "code",
      "source": [
        "class Layer():\n",
        "    def __init__(self):\n",
        "        self.params = []\n",
        "        self.grads = []\n",
        "\n",
        "    def __call__(self, x):\n",
        "        # por defecto, devolver los inputs\n",
        "        # cada capa hará algo diferente aquí\n",
        "        return x\n",
        "\n",
        "    def backward(self, grad):\n",
        "        # cada capa, calculará sus gradientes\n",
        "        # y los devolverá para las capas siguientes\n",
        "        return grad\n",
        "\n",
        "    def update(self, params):\n",
        "        # si hay parámetros, los actualizaremos\n",
        "        # con lo que nos de el optimizer\n",
        "        return"
      ],
      "metadata": {
        "id": "DvNLOzfobMTa"
      },
      "execution_count": null,
      "outputs": []
    },
    {
      "cell_type": "code",
      "source": [
        "class Linear(Layer):\n",
        "    def __init__(self, d_in, d_out):\n",
        "        # pesos de la capa\n",
        "        self.w = np.random.normal(loc=0.0,\n",
        "                                  scale=np.sqrt(2/(d_in+d_out)),\n",
        "                                  size=(d_in, d_out))\n",
        "        self.b = np.zeros(d_out)\n",
        "\n",
        "    def __call__(self, x):\n",
        "        self.x = x\n",
        "        self.params = [self.w, self.b]\n",
        "        # salida del preceptrón\n",
        "        return np.dot(x, self.w) + self.b\n",
        "\n",
        "    def backward(self, grad_output):\n",
        "        # gradientes para la capa siguiente (BACKPROP)\n",
        "        grad = np.dot(grad_output, self.w.T)\n",
        "        self.grad_w = np.dot(self.x.T, grad_output)\n",
        "        # gradientes para actualizar pesos\n",
        "        self.grad_b = grad_output.mean(axis=0)*self.x.shape[0]\n",
        "        self.grads = [self.grad_w, self.grad_b]\n",
        "        return grad\n",
        "\n",
        "    def update(self, params):\n",
        "        self.w, self.b = params"
      ],
      "metadata": {
        "id": "moBPmdw5bY24"
      },
      "execution_count": null,
      "outputs": []
    },
    {
      "cell_type": "code",
      "source": [
        "#funciones de activacion\n",
        "class ReLU(Layer):\n",
        "    def __call__(self, x):\n",
        "        self.x = x\n",
        "        return np.maximum(0, x)\n",
        "\n",
        "    def backward(self, grad_output):\n",
        "        grad = self.x > 0\n",
        "        return grad_output*grad\n",
        "\n",
        "def sigmoid(x):\n",
        "  return 1 / (1 + np.exp(-x))\n",
        "\n",
        "def softmax(x):\n",
        "    return np.exp(x) / np.exp(x).sum(axis=-1,keepdims=True)\n",
        "\n",
        "class Sigmoid(Layer):\n",
        "    def __call__(self, x):\n",
        "        self.x = x\n",
        "        return sigmoid(x)\n",
        "\n",
        "    def backward(self, grad_output):\n",
        "        grad = sigmoid(self.x)*(1 - sigmoid(self.x))\n",
        "        return grad_output*grad"
      ],
      "metadata": {
        "id": "zcQO_yZSeMOw"
      },
      "execution_count": null,
      "outputs": []
    },
    {
      "cell_type": "code",
      "source": [
        "#Optimizador, stocastic greadent descent\n",
        "class SGD():\n",
        "    def __init__(self, net, lr):\n",
        "        self.net = net\n",
        "        self.lr = lr\n",
        "\n",
        "    def update(self):\n",
        "        for layer in self.net.layers:\n",
        "            layer.update([\n",
        "                params - self.lr*grads\n",
        "                for params, grads in zip(layer.params, layer.grads)\n",
        "            ])"
      ],
      "metadata": {
        "id": "f54Br-WFeQEh"
      },
      "execution_count": null,
      "outputs": []
    },
    {
      "cell_type": "code",
      "source": [
        "class Loss():\n",
        "    def __init__(self, net):\n",
        "        self.net = net\n",
        "\n",
        "    def backward(self):\n",
        "        # derivada de la loss function con respecto\n",
        "        # a la salida del MLP\n",
        "        grad = self.grad_loss()\n",
        "        # BACKPROPAGATION\n",
        "        for layer in reversed(self.net.layers):\n",
        "            grad = layer.backward(grad)\n",
        "\n",
        "class MSE(Loss):\n",
        "    def __call__(self, output, target):\n",
        "        self.output, self.target = output, target.reshape(output.shape)\n",
        "        loss = np.mean((self.output - self.target)**2)\n",
        "        return loss.mean()\n",
        "\n",
        "    def grad_loss(self):\n",
        "        return self.output -  self.target"
      ],
      "metadata": {
        "id": "IeR9a9Q_eSkd"
      },
      "execution_count": null,
      "outputs": []
    },
    {
      "cell_type": "code",
      "source": [
        "from google.colab import drive\n",
        "drive.mount('/content/drive')"
      ],
      "metadata": {
        "colab": {
          "base_uri": "https://localhost:8080/"
        },
        "id": "I8-kMd3Woqql",
        "outputId": "acbd2bf9-edfa-431c-f4ed-7637c23f38d7"
      },
      "execution_count": null,
      "outputs": [
        {
          "output_type": "stream",
          "name": "stdout",
          "text": [
            "Drive already mounted at /content/drive; to attempt to forcibly remount, call drive.mount(\"/content/drive\", force_remount=True).\n"
          ]
        }
      ]
    },
    {
      "cell_type": "code",
      "source": [
        "import pandas as pd\n",
        "from sklearn.preprocessing import LabelEncoder\n",
        "from datetime import datetime\n",
        "\n",
        "#Carga de dataset\n",
        "data = pd.read_csv('/content/drive/MyDrive/EXAMEN_FINAL_SanchezPablo/ej2/Datasets/data_house.csv')"
      ],
      "metadata": {
        "id": "pVmLHOJjwjKv"
      },
      "execution_count": null,
      "outputs": []
    },
    {
      "cell_type": "code",
      "source": [
        "data.info()"
      ],
      "metadata": {
        "colab": {
          "base_uri": "https://localhost:8080/"
        },
        "id": "BSYUpd4w90cM",
        "outputId": "519b28b2-085f-49a2-9ff3-f266332fa6db"
      },
      "execution_count": null,
      "outputs": [
        {
          "output_type": "stream",
          "name": "stdout",
          "text": [
            "<class 'pandas.core.frame.DataFrame'>\n",
            "RangeIndex: 21613 entries, 0 to 21612\n",
            "Data columns (total 22 columns):\n",
            " #   Column         Non-Null Count  Dtype  \n",
            "---  ------         --------------  -----  \n",
            " 0   Unnamed: 0     21613 non-null  int64  \n",
            " 1   id             21613 non-null  int64  \n",
            " 2   date           21613 non-null  object \n",
            " 3   price          21613 non-null  float64\n",
            " 4   bedrooms       21613 non-null  int64  \n",
            " 5   bathrooms      21613 non-null  float64\n",
            " 6   sqft_living    21613 non-null  int64  \n",
            " 7   sqft_lot       21613 non-null  int64  \n",
            " 8   floors         21613 non-null  float64\n",
            " 9   waterfront     21613 non-null  int64  \n",
            " 10  view           21613 non-null  int64  \n",
            " 11  condition      21613 non-null  int64  \n",
            " 12  grade          21613 non-null  int64  \n",
            " 13  sqft_above     21613 non-null  int64  \n",
            " 14  sqft_basement  21613 non-null  int64  \n",
            " 15  yr_built       21613 non-null  int64  \n",
            " 16  yr_renovated   21613 non-null  int64  \n",
            " 17  zipcode        21613 non-null  int64  \n",
            " 18  lat            21613 non-null  float64\n",
            " 19  long           21613 non-null  float64\n",
            " 20  sqft_living15  21613 non-null  int64  \n",
            " 21  sqft_lot15     21613 non-null  int64  \n",
            "dtypes: float64(5), int64(16), object(1)\n",
            "memory usage: 3.6+ MB\n"
          ]
        }
      ]
    },
    {
      "cell_type": "code",
      "source": [
        "columnas_categoricas = data.select_dtypes(include=['object']).columns\n",
        "columnas_fechas = data.select_dtypes(include=['datetime64']).columns\n",
        "\n",
        "#Procesamiento de frases\n",
        "for columna in columnas_categoricas:\n",
        "  le = LabelEncoder()\n",
        "  data[columna] = le.fit_transform(data[columna])\n",
        "\n",
        "#Fechas a numeros\n",
        "for columna in columnas_fechas:\n",
        "  data[columna] = pd.to_numeric(data[columna].map(datetime.timestamp))"
      ],
      "metadata": {
        "id": "Fws0_jBp9-ac"
      },
      "execution_count": null,
      "outputs": []
    },
    {
      "cell_type": "code",
      "source": [
        "data.info()"
      ],
      "metadata": {
        "colab": {
          "base_uri": "https://localhost:8080/"
        },
        "id": "9zve3lxq-GbY",
        "outputId": "9db19776-c602-4410-e771-4e1a79f050a7"
      },
      "execution_count": null,
      "outputs": [
        {
          "output_type": "stream",
          "name": "stdout",
          "text": [
            "<class 'pandas.core.frame.DataFrame'>\n",
            "RangeIndex: 21613 entries, 0 to 21612\n",
            "Data columns (total 22 columns):\n",
            " #   Column         Non-Null Count  Dtype  \n",
            "---  ------         --------------  -----  \n",
            " 0   Unnamed: 0     21613 non-null  int64  \n",
            " 1   id             21613 non-null  int64  \n",
            " 2   date           21613 non-null  int64  \n",
            " 3   price          21613 non-null  float64\n",
            " 4   bedrooms       21613 non-null  int64  \n",
            " 5   bathrooms      21613 non-null  float64\n",
            " 6   sqft_living    21613 non-null  int64  \n",
            " 7   sqft_lot       21613 non-null  int64  \n",
            " 8   floors         21613 non-null  float64\n",
            " 9   waterfront     21613 non-null  int64  \n",
            " 10  view           21613 non-null  int64  \n",
            " 11  condition      21613 non-null  int64  \n",
            " 12  grade          21613 non-null  int64  \n",
            " 13  sqft_above     21613 non-null  int64  \n",
            " 14  sqft_basement  21613 non-null  int64  \n",
            " 15  yr_built       21613 non-null  int64  \n",
            " 16  yr_renovated   21613 non-null  int64  \n",
            " 17  zipcode        21613 non-null  int64  \n",
            " 18  lat            21613 non-null  float64\n",
            " 19  long           21613 non-null  float64\n",
            " 20  sqft_living15  21613 non-null  int64  \n",
            " 21  sqft_lot15     21613 non-null  int64  \n",
            "dtypes: float64(5), int64(17)\n",
            "memory usage: 3.6 MB\n"
          ]
        }
      ]
    },
    {
      "cell_type": "code",
      "source": [
        "columnas_eiliminar = ['Unnamed: 0', 'id', 'date']\n",
        "data = data.drop(columnas_eiliminar, axis=1)"
      ],
      "metadata": {
        "id": "8FuEVLit-Sno"
      },
      "execution_count": null,
      "outputs": []
    },
    {
      "cell_type": "code",
      "source": [
        "data.info()"
      ],
      "metadata": {
        "colab": {
          "base_uri": "https://localhost:8080/"
        },
        "id": "H0iPPODU-emU",
        "outputId": "8baa0656-7916-48b3-c953-7c0fa32fb483"
      },
      "execution_count": null,
      "outputs": [
        {
          "output_type": "stream",
          "name": "stdout",
          "text": [
            "<class 'pandas.core.frame.DataFrame'>\n",
            "RangeIndex: 21613 entries, 0 to 21612\n",
            "Data columns (total 19 columns):\n",
            " #   Column         Non-Null Count  Dtype  \n",
            "---  ------         --------------  -----  \n",
            " 0   price          21613 non-null  float64\n",
            " 1   bedrooms       21613 non-null  int64  \n",
            " 2   bathrooms      21613 non-null  float64\n",
            " 3   sqft_living    21613 non-null  int64  \n",
            " 4   sqft_lot       21613 non-null  int64  \n",
            " 5   floors         21613 non-null  float64\n",
            " 6   waterfront     21613 non-null  int64  \n",
            " 7   view           21613 non-null  int64  \n",
            " 8   condition      21613 non-null  int64  \n",
            " 9   grade          21613 non-null  int64  \n",
            " 10  sqft_above     21613 non-null  int64  \n",
            " 11  sqft_basement  21613 non-null  int64  \n",
            " 12  yr_built       21613 non-null  int64  \n",
            " 13  yr_renovated   21613 non-null  int64  \n",
            " 14  zipcode        21613 non-null  int64  \n",
            " 15  lat            21613 non-null  float64\n",
            " 16  long           21613 non-null  float64\n",
            " 17  sqft_living15  21613 non-null  int64  \n",
            " 18  sqft_lot15     21613 non-null  int64  \n",
            "dtypes: float64(5), int64(14)\n",
            "memory usage: 3.1 MB\n"
          ]
        }
      ]
    },
    {
      "cell_type": "code",
      "source": [
        "print(data)"
      ],
      "metadata": {
        "colab": {
          "base_uri": "https://localhost:8080/"
        },
        "id": "8XVxUoEV-v4o",
        "outputId": "5d538f82-ee54-45fc-e784-0dde5d34e75f"
      },
      "execution_count": null,
      "outputs": [
        {
          "output_type": "stream",
          "name": "stdout",
          "text": [
            "          price  bedrooms  bathrooms  sqft_living  sqft_lot  floors  \\\n",
            "0      221900.0         3       1.00         1180      5650     1.0   \n",
            "1      538000.0         3       2.25         2570      7242     2.0   \n",
            "2      180000.0         2       1.00          770     10000     1.0   \n",
            "3      604000.0         4       3.00         1960      5000     1.0   \n",
            "4      510000.0         3       2.00         1680      8080     1.0   \n",
            "...         ...       ...        ...          ...       ...     ...   \n",
            "21608  360000.0         3       2.50         1530      1131     3.0   \n",
            "21609  400000.0         4       2.50         2310      5813     2.0   \n",
            "21610  402101.0         2       0.75         1020      1350     2.0   \n",
            "21611  400000.0         3       2.50         1600      2388     2.0   \n",
            "21612  325000.0         2       0.75         1020      1076     2.0   \n",
            "\n",
            "       waterfront  view  condition  grade  sqft_above  sqft_basement  \\\n",
            "0               0     0          3      7        1180              0   \n",
            "1               0     0          3      7        2170            400   \n",
            "2               0     0          3      6         770              0   \n",
            "3               0     0          5      7        1050            910   \n",
            "4               0     0          3      8        1680              0   \n",
            "...           ...   ...        ...    ...         ...            ...   \n",
            "21608           0     0          3      8        1530              0   \n",
            "21609           0     0          3      8        2310              0   \n",
            "21610           0     0          3      7        1020              0   \n",
            "21611           0     0          3      8        1600              0   \n",
            "21612           0     0          3      7        1020              0   \n",
            "\n",
            "       yr_built  yr_renovated  zipcode      lat     long  sqft_living15  \\\n",
            "0          1955             0    98178  47.5112 -122.257           1340   \n",
            "1          1951          1991    98125  47.7210 -122.319           1690   \n",
            "2          1933             0    98028  47.7379 -122.233           2720   \n",
            "3          1965             0    98136  47.5208 -122.393           1360   \n",
            "4          1987             0    98074  47.6168 -122.045           1800   \n",
            "...         ...           ...      ...      ...      ...            ...   \n",
            "21608      2009             0    98103  47.6993 -122.346           1530   \n",
            "21609      2014             0    98146  47.5107 -122.362           1830   \n",
            "21610      2009             0    98144  47.5944 -122.299           1020   \n",
            "21611      2004             0    98027  47.5345 -122.069           1410   \n",
            "21612      2008             0    98144  47.5941 -122.299           1020   \n",
            "\n",
            "       sqft_lot15  \n",
            "0            5650  \n",
            "1            7639  \n",
            "2            8062  \n",
            "3            5000  \n",
            "4            7503  \n",
            "...           ...  \n",
            "21608        1509  \n",
            "21609        7200  \n",
            "21610        2007  \n",
            "21611        1287  \n",
            "21612        1357  \n",
            "\n",
            "[21613 rows x 19 columns]\n"
          ]
        }
      ]
    },
    {
      "cell_type": "code",
      "source": [
        "x = data.iloc[:, 1:18]\n",
        "y = data.iloc[:, 0]\n",
        "m = y.size\n",
        "print(x.shape)\n",
        "print(y.shape)\n",
        "print(x)\n",
        "print('---'*20)\n",
        "print(y)"
      ],
      "metadata": {
        "colab": {
          "base_uri": "https://localhost:8080/"
        },
        "id": "nVwxWmWY-jt0",
        "outputId": "bc4d7e46-1c93-453c-be63-1f93061b7a24"
      },
      "execution_count": null,
      "outputs": [
        {
          "output_type": "stream",
          "name": "stdout",
          "text": [
            "(21613, 17)\n",
            "(21613,)\n",
            "       bedrooms  bathrooms  sqft_living  sqft_lot  floors  waterfront  view  \\\n",
            "0             3       1.00         1180      5650     1.0           0     0   \n",
            "1             3       2.25         2570      7242     2.0           0     0   \n",
            "2             2       1.00          770     10000     1.0           0     0   \n",
            "3             4       3.00         1960      5000     1.0           0     0   \n",
            "4             3       2.00         1680      8080     1.0           0     0   \n",
            "...         ...        ...          ...       ...     ...         ...   ...   \n",
            "21608         3       2.50         1530      1131     3.0           0     0   \n",
            "21609         4       2.50         2310      5813     2.0           0     0   \n",
            "21610         2       0.75         1020      1350     2.0           0     0   \n",
            "21611         3       2.50         1600      2388     2.0           0     0   \n",
            "21612         2       0.75         1020      1076     2.0           0     0   \n",
            "\n",
            "       condition  grade  sqft_above  sqft_basement  yr_built  yr_renovated  \\\n",
            "0              3      7        1180              0      1955             0   \n",
            "1              3      7        2170            400      1951          1991   \n",
            "2              3      6         770              0      1933             0   \n",
            "3              5      7        1050            910      1965             0   \n",
            "4              3      8        1680              0      1987             0   \n",
            "...          ...    ...         ...            ...       ...           ...   \n",
            "21608          3      8        1530              0      2009             0   \n",
            "21609          3      8        2310              0      2014             0   \n",
            "21610          3      7        1020              0      2009             0   \n",
            "21611          3      8        1600              0      2004             0   \n",
            "21612          3      7        1020              0      2008             0   \n",
            "\n",
            "       zipcode      lat     long  sqft_living15  \n",
            "0        98178  47.5112 -122.257           1340  \n",
            "1        98125  47.7210 -122.319           1690  \n",
            "2        98028  47.7379 -122.233           2720  \n",
            "3        98136  47.5208 -122.393           1360  \n",
            "4        98074  47.6168 -122.045           1800  \n",
            "...        ...      ...      ...            ...  \n",
            "21608    98103  47.6993 -122.346           1530  \n",
            "21609    98146  47.5107 -122.362           1830  \n",
            "21610    98144  47.5944 -122.299           1020  \n",
            "21611    98027  47.5345 -122.069           1410  \n",
            "21612    98144  47.5941 -122.299           1020  \n",
            "\n",
            "[21613 rows x 17 columns]\n",
            "------------------------------------------------------------\n",
            "0        221900.0\n",
            "1        538000.0\n",
            "2        180000.0\n",
            "3        604000.0\n",
            "4        510000.0\n",
            "           ...   \n",
            "21608    360000.0\n",
            "21609    400000.0\n",
            "21610    402101.0\n",
            "21611    400000.0\n",
            "21612    325000.0\n",
            "Name: price, Length: 21613, dtype: float64\n"
          ]
        }
      ]
    },
    {
      "cell_type": "code",
      "source": [
        "# Crea un nuevo DataFrame con los datos modificados\n",
        "nuevo_data = data.copy()\n",
        "# Guardar el dataset actualizado en un nuevo archivo\n",
        "nuevo_data.to_csv('data_house2.csv', index=False)"
      ],
      "metadata": {
        "id": "YywScjKO-5Qd"
      },
      "execution_count": null,
      "outputs": []
    },
    {
      "cell_type": "code",
      "source": [
        "data = np.loadtxt(\"/content/data_house2.csv\", delimiter=',',skiprows=1)\n",
        "# print(data)\n",
        "x, y = data[:, 1:18].astype(int), data[:, 0].astype(int)\n",
        "x = x.reshape(len(x),17)\n",
        "print(x.shape)\n",
        "print(y.shape)"
      ],
      "metadata": {
        "colab": {
          "base_uri": "https://localhost:8080/"
        },
        "id": "G8i2H2Mve2Ro",
        "outputId": "7fd73465-b5f5-4280-d078-01b296b5125c"
      },
      "execution_count": null,
      "outputs": [
        {
          "output_type": "stream",
          "name": "stdout",
          "text": [
            "(21613, 17)\n",
            "(21613,)\n"
          ]
        }
      ]
    },
    {
      "cell_type": "code",
      "source": [
        "x_train, x_test, y_train, y_test = x[:800] , x[800:] , y[:800].astype(np.int64), y[800:].astype(np.int64)\n",
        "x_train.shape , x_test.shape\n",
        "\n",
        "y_train.shape , y_test.shape"
      ],
      "metadata": {
        "colab": {
          "base_uri": "https://localhost:8080/"
        },
        "id": "86UG4ZVGyI7S",
        "outputId": "4b4ecdd4-78c2-44a3-8b91-fda5d6fbe094"
      },
      "execution_count": null,
      "outputs": [
        {
          "output_type": "execute_result",
          "data": {
            "text/plain": [
              "((800,), (20813,))"
            ]
          },
          "metadata": {},
          "execution_count": 19
        }
      ]
    },
    {
      "cell_type": "code",
      "source": [
        "def relu(x):\n",
        "  return np.maximum(0, x)\n",
        "\n",
        "def reluPrime(x):\n",
        "  return x > 0"
      ],
      "metadata": {
        "id": "H4-KWz6Tydil"
      },
      "execution_count": null,
      "outputs": []
    },
    {
      "cell_type": "code",
      "source": [
        "def linear(x):\n",
        "    return x\n",
        "\n",
        "def sigmoid(x):\n",
        "  return 1 / (1 + np.exp(-x))\n",
        "\n",
        "def softmax(x):\n",
        "    return np.exp(x) / np.exp(x).sum(axis=-1,keepdims=True)"
      ],
      "metadata": {
        "id": "hl4g6CDzyfXr"
      },
      "execution_count": null,
      "outputs": []
    },
    {
      "cell_type": "code",
      "source": [
        "# Mean Square Error -> usada para regresión (con activación lineal)\n",
        "def mse(y, y_hat):\n",
        "    return np.mean((y_hat - y.reshape(y_hat.shape))**2)\n"
      ],
      "metadata": {
        "id": "K0sDIWzuyhab"
      },
      "execution_count": null,
      "outputs": []
    },
    {
      "cell_type": "code",
      "source": [
        "def grad_mse(y, y_hat):\n",
        "    return y_hat - y.reshape(y_hat.shape)\n"
      ],
      "metadata": {
        "id": "FjdNH1ZuyojF"
      },
      "execution_count": null,
      "outputs": []
    },
    {
      "cell_type": "code",
      "source": [
        "# clase base MLP\n",
        "\n",
        "class MLP():\n",
        "  def __init__(self, D_in, H, D_out, loss, grad_loss, activation):\n",
        "    # pesos de la capa 1\n",
        "    self.w1, self.b1 = np.random.normal(loc=0.0,\n",
        "                                  scale=np.sqrt(2/(D_in+H)),\n",
        "                                  size=(D_in, H)), np.zeros(H)\n",
        "    # pesos de la capa 2\n",
        "    self.w2, self.b2 = np.random.normal(loc=0.0,\n",
        "                                  scale=np.sqrt(2/(H+D_out)),\n",
        "                                  size=(H, D_out)), np.zeros(D_out)\n",
        "    self.ws = []\n",
        "    # función de pérdida y derivada\n",
        "    self.loss = loss\n",
        "    self.grad_loss = grad_loss\n",
        "    # función de activación\n",
        "    self.activation = activation\n",
        "\n",
        "  def __call__(self, x):\n",
        "    # salida de la capa 1\n",
        "    self.h_pre = np.dot(x, self.w1) + self.b1\n",
        "    self.h = relu(self.h_pre)\n",
        "    # salida del MLP\n",
        "    y_hat = np.dot(self.h, self.w2) + self.b2\n",
        "    return self.activation(y_hat)\n",
        "\n",
        "  def fit(self, X, Y, epochs = 100, lr = 0.001, batch_size=None, verbose=True, log_each=1):\n",
        "    batch_size = len(X) if batch_size == None else batch_size\n",
        "    batches = len(X) // batch_size\n",
        "    l = []\n",
        "    for e in range(1,epochs+1):\n",
        "        # Mini-Batch Gradient Descent\n",
        "        _l = []\n",
        "        for b in range(batches):\n",
        "            # batch de datos\n",
        "            x = X[b*batch_size:(b+1)*batch_size]\n",
        "            y = Y[b*batch_size:(b+1)*batch_size]\n",
        "            # salida del perceptrón\n",
        "            y_pred = self(x)\n",
        "            # función de pérdida\n",
        "            loss = self.loss(y, y_pred)\n",
        "            _l.append(loss)\n",
        "            # Backprop\n",
        "            dldy = self.grad_loss(y, y_pred)\n",
        "            grad_w2 = np.dot(self.h.T, dldy)\n",
        "            grad_b2 = dldy.mean(axis=0)\n",
        "            dldh = np.dot(dldy, self.w2.T)*reluPrime(self.h_pre)\n",
        "            grad_w1 = np.dot(x.T, dldh)\n",
        "            grad_b1 = dldh.mean(axis=0)\n",
        "            # Update (GD)\n",
        "            self.w1 = self.w1 - lr * grad_w1\n",
        "            self.b1 = self.b1 - lr * grad_b1\n",
        "            self.w2 = self.w2 - lr * grad_w2\n",
        "            self.b2 = self.b2 - lr * grad_b2\n",
        "        l.append(np.mean(_l))\n",
        "        # guardamos pesos intermedios para visualización\n",
        "        self.ws.append((\n",
        "            self.w1.copy(),\n",
        "            self.b1.copy(),\n",
        "            self.w2.copy(),\n",
        "            self.b2.copy()\n",
        "        ))\n",
        "        if verbose and not e % log_each:\n",
        "            print(f'Epoch: {e}/{epochs}, Loss: {np.mean(l):.5f}')\n",
        "\n",
        "  def predict(self, ws, x):\n",
        "    w1, b1, w2, b2 = ws\n",
        "    h = relu(np.dot(x, w1) + b1)\n",
        "    y_hat = np.dot(h, w2) + b2\n",
        "    return self.activation(y_hat)"
      ],
      "metadata": {
        "id": "IYrx4VPKyqjd"
      },
      "execution_count": null,
      "outputs": []
    },
    {
      "cell_type": "code",
      "source": [
        "# MLP para regresión\n",
        "class MLPRegression(MLP):\n",
        "    def __init__(self, D_in, H, D_out):\n",
        "        super().__init__(D_in, H, D_out, mse, grad_mse, linear)\n"
      ],
      "metadata": {
        "id": "wwRNl4-N_0GE"
      },
      "execution_count": null,
      "outputs": []
    },
    {
      "cell_type": "code",
      "source": [
        "model = MLPRegression(D_in=17, H=100, D_out=1)\n",
        "epochs, lr = 100, 0.02\n",
        "\n",
        "# normalización datos\n",
        "x_mean = np.mean(x_train)\n",
        "x_std = np.std(x_train)\n",
        "x_std = np.nan_to_num(x_std, nan=1.0)\n",
        "\n",
        "\n",
        "# Calcula x_norm\n",
        "x_norm = (x_train - x_mean) / x_std\n",
        "\n",
        "model.fit(x_norm, y_train, epochs, lr, batch_size=1, log_each=10)"
      ],
      "metadata": {
        "colab": {
          "base_uri": "https://localhost:8080/"
        },
        "id": "N7yhQpte_2B-",
        "outputId": "89797cb8-b5c5-4a6e-827e-93743d955051"
      },
      "execution_count": null,
      "outputs": [
        {
          "output_type": "stream",
          "name": "stdout",
          "text": [
            "Epoch: 10/100, Loss: 146801895223916556227167441905737277310208709496398265809597424728036286329257984.00000\n",
            "Epoch: 20/100, Loss: 73400947611958278113583720952868638655104354748199132904798712364018143164628992.00000\n",
            "Epoch: 30/100, Loss: 48933965074638847687710327778696313356818416345864741982570166553132459846795264.00000\n",
            "Epoch: 40/100, Loss: 36700473805979139056791860476434319327552177374099566452399356182009071582314496.00000\n",
            "Epoch: 50/100, Loss: 29360379044783309270828019595700204876078722830459047182636446185311421247520768.00000\n",
            "Epoch: 60/100, Loss: 24466982537319423843855163889348156678409208172932370991285083276566229923397632.00000\n",
            "Epoch: 70/100, Loss: 20971699317702363764877156854071574911484802021756462273311747275222443748229120.00000\n",
            "Epoch: 80/100, Loss: 18350236902989569528395930238217159663776088687049783226199678091004535791157248.00000\n",
            "Epoch: 90/100, Loss: 16311321691546281465567071045428076348960017077054577339032811761990911049859072.00000\n",
            "Epoch: 100/100, Loss: 14680189522391654635414009797850102438039361415229523591318223092655710623760384.00000\n"
          ]
        }
      ]
    },
    {
      "cell_type": "code",
      "source": [
        "# últimos pesos encontrados\n",
        "\n",
        "w = model.ws[-1]\n",
        "w"
      ],
      "metadata": {
        "id": "zY_FGDTeA4jL"
      },
      "execution_count": null,
      "outputs": []
    },
    {
      "cell_type": "code",
      "source": [
        "print(\"Primeros 5 datos de entrada de prueba (X_test):\")\n",
        "print(x_test[:5])\n",
        "\n",
        "print(\"Primeras 5 etiquetas de prueba (y_test):\")\n",
        "print(y_test[:5])"
      ],
      "metadata": {
        "colab": {
          "base_uri": "https://localhost:8080/"
        },
        "id": "P9tkGNwqBOpg",
        "outputId": "ddecb343-96de-4753-eaff-577fc2a62da2"
      },
      "execution_count": null,
      "outputs": [
        {
          "output_type": "stream",
          "name": "stdout",
          "text": [
            "Primeros 5 datos de entrada de prueba (X_test):\n",
            "[[    3     2  1340  2720     1     0     0     3     7  1340     0  1913\n",
            "      0 98103    47  -122  2030]\n",
            " [    4     2  3190  8684     1     0     3     5     9  1680  1510  1967\n",
            "      0 98006    47  -122  3160]\n",
            " [    3     2  1630  4534     2     0     0     3     8  1630     0  1987\n",
            "      0 98034    47  -122  1380]\n",
            " [    5     2  2990 15085     2     0     0     3     9  2990     0  2007\n",
            "      0 98011    47  -122  3150]\n",
            " [    4     1  1550  7740     1     0     0     3     6  1550     0  1954\n",
            "      0 98126    47  -122  1220]]\n",
            "Primeras 5 etiquetas de prueba (y_test):\n",
            "[ 650000 1216000  422120  625000  385200]\n"
          ]
        }
      ]
    },
    {
      "cell_type": "code",
      "source": [
        "# nuevo punto\n",
        "x_new = x_test\n",
        "X_new = [3, 2, 1340, 2720, 1, 0, 0, 3, 7, 1340, 0, 1913, 0, 98103, 47, -122, 2030]\n",
        "y_pred = model.predict(w, X_new)\n",
        "y_pred"
      ],
      "metadata": {
        "colab": {
          "base_uri": "https://localhost:8080/"
        },
        "id": "f6SwazU9A646",
        "outputId": "cb548461-53d9-4049-a8a1-9b091efa25d4"
      },
      "execution_count": null,
      "outputs": [
        {
          "output_type": "execute_result",
          "data": {
            "text/plain": [
              "array([546724.04506909])"
            ]
          },
          "metadata": {},
          "execution_count": 29
        }
      ]
    },
    {
      "cell_type": "code",
      "source": [
        "def evaluate(perceptron, x, t = 0.5):\n",
        "    w = perceptron.ws[-1]\n",
        "    x = np.c_[np.ones(len(x)), x]\n",
        "    y = perceptron(w, x)\n",
        "    return (y > t).astype(np.int64)"
      ],
      "metadata": {
        "id": "TdvbARh9y55o"
      },
      "execution_count": null,
      "outputs": []
    },
    {
      "cell_type": "code",
      "source": [
        "def accuracy (y_pred, y):\n",
        "  return np.sum(y_pred == y_test) / len(str(y))"
      ],
      "metadata": {
        "id": "4oS6tvkz3H1m"
      },
      "execution_count": null,
      "outputs": []
    },
    {
      "cell_type": "code",
      "source": [
        "print(accuracy(650000, 546724.04)/100)"
      ],
      "metadata": {
        "id": "lnMrjov0y7b7",
        "colab": {
          "base_uri": "https://localhost:8080/"
        },
        "outputId": "ba3b4bdd-f35d-415d-91c0-ff4bf774db80"
      },
      "execution_count": null,
      "outputs": [
        {
          "output_type": "stream",
          "name": "stdout",
          "text": [
            "0.11777777777777779\n"
          ]
        }
      ]
    }
  ]
}