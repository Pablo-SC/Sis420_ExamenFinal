{
  "nbformat": 4,
  "nbformat_minor": 0,
  "metadata": {
    "colab": {
      "provenance": []
    },
    "kernelspec": {
      "name": "python3",
      "display_name": "Python 3"
    },
    "language_info": {
      "name": "python"
    }
  },
  "cells": [
    {
      "cell_type": "code",
      "source": [
        "#######################################\n",
        "## SIS 420                           ##\n",
        "## Alumno: Sanchez Calvimontes Pablo ##\n",
        "## Carrera: Ingenieria de Sistemas   ##\n",
        "#######################################\n",
        "\n",
        "# EXAMEN FINAL DE SIS420 - INTELIGENCIA ARTIFICIAL\n",
        "\n",
        "# A CONTINUACION SE DESCRIBIRA LOS PASOS QUE SE REALIZARON PARA ESTE EJERCICIO\n",
        "\n",
        "# Primero se crea una funcion \"generate_population\" el funcionamiento se encuentra comentado en el codigo\n",
        "# pero basicamente la funcion crea individuos de una poblacion\n",
        "\n",
        "# La siguiente funcion es \"calculate_fitness\" tambien se encuentra comentada en el codigo\n",
        "# esta función se utiliza en algoritmos genéticos para determinar la aptitud de un cromosoma determinado.\n",
        "\n",
        "# la funcion \"select_chromosomes\" recive la poblacion que se creo antes y selecciona cromosomas\n",
        "# para realizar un cruce\n",
        "\n",
        "# despues se realiza un cruce con la fincion \"crossover\" que recibe dos \"padres\" para realizar un cruce\n",
        "# y obtener nuevos cromosomas, despues se realiza una mutacion en un cromosoma que se escoge\n",
        "#  de forma aleatoria\n",
        "\n",
        "# los parametros pueden ser modificados en la parte del final\n",
        "# podemnos ecoger el peso , el tamaño de la poblacion, la probabilidad de mutacion, y las generaciones que existiran\n",
        "\n",
        "# FINALMENTE se imprime la solucion el la parte final del codigo\n",
        "# mostrando la mejor solucion posible , el peso y los valor\n"
      ],
      "metadata": {
        "id": "jfjpiSdg_pUZ"
      },
      "execution_count": null,
      "outputs": []
    },
    {
      "cell_type": "markdown",
      "source": [
        "# Ejercicio 1 v2 - SIS 420\n"
      ],
      "metadata": {
        "id": "pUVx5W_UC9pm"
      }
    },
    {
      "cell_type": "markdown",
      "source": [
        "## El problema de la mochila"
      ],
      "metadata": {
        "id": "sTo0dCl4baRf"
      }
    },
    {
      "cell_type": "markdown",
      "source": [
        "El problema de la mochila se puede utilizar para ilustrar la dificultad de resolver problemas computacionales complejos. En su forma más simple, se le entrega una mochila de cierta capacidad, un conjunto de artículos con sus tamaños y valores, y se le pide maximizar el valor de los artículos colocados en la mochila sin exceder la capacidad. El problema de la mochila se puede formular de muchas maneras, pero generalmente se considera que es un problema difícil de resolver cuando se emplean algoritmos tradicionales."
      ],
      "metadata": {
        "id": "9_Cm1M5VbVOR"
      }
    },
    {
      "cell_type": "code",
      "source": [
        "import random\n",
        "import math\n",
        "from tqdm.notebook import tqdm\n",
        "from copy import copy\n",
        "import matplotlib.pyplot as plt"
      ],
      "metadata": {
        "id": "k3hGRNabcWEH"
      },
      "execution_count": null,
      "outputs": []
    },
    {
      "cell_type": "markdown",
      "source": [
        "### Generar población aleatoria\n"
      ],
      "metadata": {
        "id": "_B8jGbe1DVRu"
      }
    },
    {
      "cell_type": "code",
      "source": [
        "#Esta función genera una población aleatoria de un tamaño determinado\n",
        "#Utiliza un bucle for para iterar a través del tamaño dado, y para cada iteración crea un cromosoma.\n",
        "def generate_population(size):\n",
        "\tpopulation = []\n",
        "\tfor _ in range(size):\n",
        "\t\tgenes = [0, 1]\n",
        "\t\tchromosome = []\n",
        "\t\tfor _ in range(len(items)):\n",
        "\t\t\tchromosome.append(random.choice(genes))\n",
        "\t\tpopulation.append(chromosome)\n",
        "\tprint(\"Generar una poblacion con un tamaño random\", size)\n",
        "\treturn population"
      ],
      "metadata": {
        "id": "H0Ia4Sh3DG2g"
      },
      "execution_count": null,
      "outputs": []
    },
    {
      "cell_type": "markdown",
      "source": [
        "### Fitness"
      ],
      "metadata": {
        "id": "B4m7DqacDdxI"
      }
    },
    {
      "cell_type": "code",
      "source": [
        "# Esta función se utiliza para calcular la aptitud de un cromosoma. Toma un cromosoma como argumento y lo itera\n",
        "def calculate_fitness(chromosome):\n",
        "\ttotal_weight = 0\n",
        "\ttotal_value = 0\n",
        "\tfor i in range(len(chromosome)):\n",
        "\t\tif chromosome[i] == 1:\n",
        "\t\t\ttotal_weight += items[i][0]\n",
        "\t\t\ttotal_value += items[i][1]\n",
        "\tif total_weight > max_weight:\n",
        "\t\treturn 0\n",
        "\telse:\n",
        "\t\treturn total_value"
      ],
      "metadata": {
        "id": "ica9Ld9cDwTf"
      },
      "execution_count": null,
      "outputs": []
    },
    {
      "cell_type": "markdown",
      "source": [
        "### Seleccionar cromosomas\n"
      ],
      "metadata": {
        "id": "ZoGt_jNPDxNA"
      }
    },
    {
      "cell_type": "markdown",
      "source": [
        "Esta función se utiliza para seleccionar dos cromosomas de una población para el cruce. Primero calcula los valores de aptitud de cada cromosoma en la población usando la función calculate_fitness"
      ],
      "metadata": {
        "id": "t1qUQNU1dgv9"
      }
    },
    {
      "cell_type": "code",
      "source": [
        "def select_chromosomes(population):\n",
        "\tfitness_values = []\n",
        "\tfor chromosome in population:\n",
        "\t\tfitness_values.append(calculate_fitness(chromosome))\n",
        "\n",
        "\tfitness_values = [float(i)/sum(fitness_values) for i in fitness_values]\n",
        "\n",
        "\tparent1 = random.choices(population, weights=fitness_values, k=1)[0]\n",
        "\tparent2 = random.choices(population, weights=fitness_values, k=1)[0]\n",
        "\n",
        "\tprint(\"Seleccionar 2 cromosomas para cruce\")\n",
        "\treturn parent1, parent2"
      ],
      "metadata": {
        "id": "2ghe-sOkD0Ol"
      },
      "execution_count": null,
      "outputs": []
    },
    {
      "cell_type": "markdown",
      "source": [
        "### Realizar cruce\n"
      ],
      "metadata": {
        "id": "r2vCLn9qD26r"
      }
    },
    {
      "cell_type": "markdown",
      "source": [
        "Esta función realiza el cruce entre dos cromosomas. Toma dos cromosomas principales como entrada y selecciona aleatoriamente un punto de cruce. Luego crea dos cromosomas hijos al combinar los dos cromosomas padres en el punto de cruce. El primer cromosoma hijo se crea tomando la primera parte del primer cromosoma padre y la segunda parte del segundo cromosoma padre. El segundo cromosoma hijo se crea tomando la primera parte del segundo cromosoma padre y la segunda parte del primer cromosoma padre. Finalmente, los dos cromosomas secundarios se devuelven como salida"
      ],
      "metadata": {
        "id": "sLMaucryds4M"
      }
    },
    {
      "cell_type": "code",
      "source": [
        "def crossover(parent1, parent2):\n",
        "\tcrossover_point = random.randint(0, len(items)-1)\n",
        "\tchild1 = parent1[0:crossover_point] + parent2[crossover_point:]\n",
        "\tchild2 = parent2[0:crossover_point] + parent1[crossover_point:]\n",
        "\n",
        "\tprint(\"Cruce realizado entre 2 cromosomas\")\n",
        "\treturn child1, child2"
      ],
      "metadata": {
        "id": "nt10QVveD56w"
      },
      "execution_count": null,
      "outputs": []
    },
    {
      "cell_type": "markdown",
      "source": [
        "### Realizar mutación\n"
      ],
      "metadata": {
        "id": "KIDXBPXED7nZ"
      }
    },
    {
      "cell_type": "markdown",
      "source": [
        "Toma un cromosoma como argumento y utiliza el módulo aleatorio para generar un número aleatorio entre 0 y la longitud del cromosoma. Si el valor en el punto de mutación es 0, se cambia a 1, y si es 1, se cambia a 0"
      ],
      "metadata": {
        "id": "bZ18eF4fdygE"
      }
    },
    {
      "cell_type": "code",
      "source": [
        "def mutate(chromosome):\n",
        "\tmutation_point = random.randint(0, len(items)-1)\n",
        "\tif chromosome[mutation_point] == 0:\n",
        "\t\tchromosome[mutation_point] = 1\n",
        "\telse:\n",
        "\t\tchromosome[mutation_point] = 0\n",
        "\tprint(\"Se realizo la mutacion en el cromosoma\")\n",
        "\treturn chromosome"
      ],
      "metadata": {
        "id": "gYq05LlMD_WN"
      },
      "execution_count": null,
      "outputs": []
    },
    {
      "cell_type": "markdown",
      "source": [
        "### Obtener el mejor cromosoma\n"
      ],
      "metadata": {
        "id": "mh_AhvnqEBqY"
      }
    },
    {
      "cell_type": "markdown",
      "source": [
        "Esta función toma una población de cromosomas y devuelve el mejor cromosoma de la población. Lo hace creando primero una lista de valores de aptitud para cada cromosoma en la población. Luego encuentra el valor máximo de fitness y su índice correspondiente en la lista. Finalmente, devuelve el cromosoma en el índice del valor máximo de aptitud. Esta función es útil para encontrar el mejor cromosoma de una población de cromosomas con el fin de utilizarlo para otras operaciones."
      ],
      "metadata": {
        "id": "GOs_IwMMd4lw"
      }
    },
    {
      "cell_type": "code",
      "source": [
        "def get_best(population):\n",
        "\tfitness_values = []\n",
        "\tfor chromosome in population:\n",
        "\t\tfitness_values.append(calculate_fitness(chromosome))\n",
        "\n",
        "\tmax_value = max(fitness_values)\n",
        "\tmax_index = fitness_values.index(max_value)\n",
        "\treturn population[max_index]"
      ],
      "metadata": {
        "id": "lc4SjHn2EA6V"
      },
      "execution_count": null,
      "outputs": []
    },
    {
      "cell_type": "code",
      "source": [
        "# Este codigo registra las actividades en cada ciclo, es para un control pero no afecta al codigo"
      ],
      "metadata": {
        "id": "zZFmoL1neQLO"
      },
      "execution_count": null,
      "outputs": []
    },
    {
      "cell_type": "code",
      "source": [
        "# for _ in range(generations):\n",
        "# \t# select two chromosomes for crossover\n",
        "# \tparent1, parent2 = select_chromosomes(population)\n",
        "\n",
        "# \t# perform crossover to generate two new chromosomes\n",
        "# \tchild1, child2 = crossover(parent1, parent2)\n",
        "\n",
        "# \t# perform mutation on the two new chromosomes\n",
        "# \tif random.uniform(0, 1) < mutation_probability:\n",
        "# \t\tchild1 = mutate(child1)\n",
        "# \tif random.uniform(0, 1) < mutation_probability:\n",
        "# \t\tchild2 = mutate(child2)\n",
        "\n",
        "# \t# replace the old population with the new population\n",
        "# \tpopulation = [child1, child2] + population[2:]"
      ],
      "metadata": {
        "colab": {
          "base_uri": "https://localhost:8080/"
        },
        "id": "sQFYagUVeEme",
        "outputId": "4ec8b927-dcf3-4d5d-cffe-3bc268d0e48f"
      },
      "execution_count": null,
      "outputs": [
        {
          "output_type": "stream",
          "name": "stdout",
          "text": [
            "Seleccionar 2 cromosomas para cruce\n",
            "Cruce realizado entre 2 cromosomas\n",
            "Se realizo la mutacion en el cromosoma\n",
            "Seleccionar 2 cromosomas para cruce\n",
            "Cruce realizado entre 2 cromosomas\n",
            "Seleccionar 2 cromosomas para cruce\n",
            "Cruce realizado entre 2 cromosomas\n",
            "Seleccionar 2 cromosomas para cruce\n",
            "Cruce realizado entre 2 cromosomas\n",
            "Seleccionar 2 cromosomas para cruce\n",
            "Cruce realizado entre 2 cromosomas\n",
            "Se realizo la mutacion en el cromosoma\n",
            "Seleccionar 2 cromosomas para cruce\n",
            "Cruce realizado entre 2 cromosomas\n",
            "Seleccionar 2 cromosomas para cruce\n",
            "Cruce realizado entre 2 cromosomas\n",
            "Seleccionar 2 cromosomas para cruce\n",
            "Cruce realizado entre 2 cromosomas\n",
            "Seleccionar 2 cromosomas para cruce\n",
            "Cruce realizado entre 2 cromosomas\n",
            "Seleccionar 2 cromosomas para cruce\n",
            "Cruce realizado entre 2 cromosomas\n",
            "Se realizo la mutacion en el cromosoma\n",
            "Se realizo la mutacion en el cromosoma\n"
          ]
        }
      ]
    },
    {
      "cell_type": "markdown",
      "source": [
        "## Implemetar"
      ],
      "metadata": {
        "id": "9d98pCLgEY8P"
      }
    },
    {
      "cell_type": "code",
      "source": [
        "# items that can be put in the knapsack\n",
        "items = [\n",
        "\t\t[1, 2],\n",
        "\t\t[2, 4],\n",
        "\t\t[3, 4],\n",
        "\t\t[4, 5],\n",
        "\t\t[5, 7],\n",
        "\t\t[6, 9]\n",
        "\t]\n",
        "\n",
        "# print available items\n",
        "print(\"Items disponibles:\\n\", items)\n",
        "\n",
        "# parameters for genetic algorithm\n",
        "max_weight = 10\n",
        "population_size = 10\n",
        "mutation_probability = 0.2\n",
        "generations = 10\n",
        "\n",
        "print(\"\\nPARAMETROS DEL ALGORITMO GENETICO:\")\n",
        "print(\"Peso Max:\", max_weight)\n",
        "print(\"Poblacion:\", population_size)\n",
        "print(\"Probabilidad de mutacion:\", mutation_probability)\n",
        "print(\"Generations:\", generations, \"\\n\")\n",
        "print(\"Evolucion genetica realizada:\")\n",
        "\n",
        "# generate a random population\n",
        "population = generate_population(population_size)\n",
        "\n",
        "# evolve the population for specified number of generations\n",
        "for _ in range(generations):\n",
        "\t# select two chromosomes for crossover\n",
        "\tparent1, parent2 = select_chromosomes(population)\n",
        "\n",
        "\t# perform crossover to generate two new chromosomes\n",
        "\tchild1, child2 = crossover(parent1, parent2)\n",
        "\n",
        "\t# perform mutation on the two new chromosomes\n",
        "\tif random.uniform(0, 1) < mutation_probability:\n",
        "\t\tchild1 = mutate(child1)\n",
        "\tif random.uniform(0, 1) < mutation_probability:\n",
        "\t\tchild2 = mutate(child2)\n",
        "\n",
        "\t# replace the old population with the new population\n",
        "\tpopulation = [child1, child2] + population[2:]\n",
        "\n",
        "# get the best chromosome from the population\n",
        "best = get_best(population)\n",
        "\n",
        "# get the weight and value of the best solution\n",
        "total_weight = 0\n",
        "total_value = 0\n",
        "for i in range(len(best)):\n",
        "\tif best[i] == 1:\n",
        "\t\ttotal_weight += items[i][0]\n",
        "\t\ttotal_value += items[i][1]\n",
        "\n",
        "# print the best solution\n",
        "print(\"\\nLA MEJOR SOLUCION ES: \")\n",
        "print(\"Peso:\", total_weight)\n",
        "print(\"Valor:\", total_value)"
      ],
      "metadata": {
        "id": "xXVi7qoPEYcn",
        "colab": {
          "base_uri": "https://localhost:8080/"
        },
        "outputId": "1411c313-dd03-4df7-e299-28295a4999ee"
      },
      "execution_count": null,
      "outputs": [
        {
          "output_type": "stream",
          "name": "stdout",
          "text": [
            "Available items:\n",
            " [[1, 2], [2, 4], [3, 4], [4, 5], [5, 7], [6, 9]]\n",
            "\n",
            "Genetic algorithm parameters:\n",
            "Max weight: 10\n",
            "Population: 10\n",
            "Mutation probability: 0.2\n",
            "Generations: 10 \n",
            "\n",
            "Performing genetic evolution:\n",
            "Generar una poblacion con un tamaño random 10\n",
            "Seleccionar 2 cromosomas para cruce\n",
            "Cruce realizado entre 2 cromosomas\n",
            "Se realizo la mutacion en el cromosoma\n",
            "Seleccionar 2 cromosomas para cruce\n",
            "Cruce realizado entre 2 cromosomas\n",
            "Seleccionar 2 cromosomas para cruce\n",
            "Cruce realizado entre 2 cromosomas\n",
            "Seleccionar 2 cromosomas para cruce\n",
            "Cruce realizado entre 2 cromosomas\n",
            "Seleccionar 2 cromosomas para cruce\n",
            "Cruce realizado entre 2 cromosomas\n",
            "Seleccionar 2 cromosomas para cruce\n",
            "Cruce realizado entre 2 cromosomas\n",
            "Seleccionar 2 cromosomas para cruce\n",
            "Cruce realizado entre 2 cromosomas\n",
            "Seleccionar 2 cromosomas para cruce\n",
            "Cruce realizado entre 2 cromosomas\n",
            "Seleccionar 2 cromosomas para cruce\n",
            "Cruce realizado entre 2 cromosomas\n",
            "Seleccionar 2 cromosomas para cruce\n",
            "Cruce realizado entre 2 cromosomas\n",
            "Se realizo la mutacion en el cromosoma\n",
            "\n",
            "The best solution:\n",
            "Weight: 9\n",
            "Value: 15\n"
          ]
        }
      ]
    }
  ]
}