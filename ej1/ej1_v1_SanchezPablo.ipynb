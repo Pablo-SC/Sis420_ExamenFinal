{
  "cells": [
    {
      "cell_type": "code",
      "source": [
        "#######################################\n",
        "## SIS 420                           ##\n",
        "## Alumno: Sanchez Calvimontes Pablo ##\n",
        "## Carrera: Ingenieria de Sistemas   ##\n",
        "#######################################\n",
        "\n",
        "# EXAMEN FINAL DE SIS420 - INTELIGENCIA ARTIFICIAL\n",
        "\n",
        "# A CONTINUACION SE DESCRIBIRA LOS PASOS QUE SE REALIZARON PARA ESTE EJERCICIO\n",
        "\n",
        "# Primero se hizo la importación de librerías: Se importan las siguientes librerías necesarias para el funcionamiento del código:\n",
        "# random-  math-  tqdm: Para visualizar una barra de progreso durante la ejecución del algoritmo genético\n",
        "# copy-  matplotlib.pyplot\n",
        "\n",
        "# despuies se crea la funcion  \"init_pop\" que genera una población inicial aleatoria\n",
        "# la funcion \"fitness_score\"  calcula la aptitud de cada individuo en la población\n",
        "# se crean las listas fitness_values y num vacías\n",
        "# se itera sobre la población y se convierte cada cromosoma de números binarios en un número decimal\n",
        "# despuies de realizar los calculos respectivos se devuelven las listas fitness_values y population que contienen los valores de aptitud y la población ordenados respectivamente\n",
        "\n",
        "# despues se crea la función \"select_parent\" que selecciona padres de forma aleatoria esto para luego ser usados en la\n",
        "# función \"crossover\" que realiza el cruce entre padres\n",
        "\n",
        "# la función mutation: Realiza la mutación en la población\n",
        "# Se obtiene la longitud del cromosoma de los individuos en la población\n",
        "# Se itera sobre cada individuo y cada gen del cromosoma\n",
        "\n",
        "# Función SGA: Ejecuta el Algoritmo Genético Simple.\n",
        "# sSe inicializan las variables states, best_solution y best_score para almacenar la evolución de los puntajes y la mejor solución encontrada.\n",
        "# se itera un número determinado de generaciones.\n",
        "\n",
        "# En cada generación, se calcula la aptitud de la población actual y se obtiene el mejor puntaje y la mejor solución encontrada hasta el momento.\n",
        "# Se seleccionan los padres, se realiza el cruce y la mutación en la población.\n",
        "# Al final de cada generación, se actualiza el mejor puntaje y la mejor solución si se encuentra una solución mejor.\n",
        "# Se devuelven la mejor solución, el mejor puntaje y la lista de puntajes en cada generación.\n",
        "\n",
        "# los parametro se definen y pueden ser modificados para obtener diferentes resultados\n",
        "\n",
        "\n",
        "#el código implementa un Algoritmo Genético Simple para resolver el problema de fijación de precios de bicicletas.\n",
        "# Utiliza una población inicial aleatoria, calcula la aptitud de los individuos, selecciona padres, realiza el cruce y\n",
        "# la mutación, y evoluciona a lo largo de un número determinado de generaciones. Al final, se obtiene la mejor solución\n",
        "# encontrada y se muestra un gráfico de la evolución de los puntajes.\n",
        "\n",
        "#EL RESULTADO DEL ALGORITMO SE ENCUENTRA AL FINAL DEL EJERCICIO\n",
        "# Y PUEDE SER VERIFICADO PORQUE ES EL MEJOR VALOR POSIBLE\n"
      ],
      "metadata": {
        "id": "xcNfpy2Y9a8q"
      },
      "execution_count": null,
      "outputs": []
    },
    {
      "cell_type": "markdown",
      "metadata": {
        "id": "QkzeTK6X1Syn"
      },
      "source": [
        "# Ejercicio 1 - v1 - Sis420"
      ]
    },
    {
      "cell_type": "markdown",
      "metadata": {
        "id": "j7T2XIge1Syv"
      },
      "source": [
        "##  Fijación de precios de bicicletas usando un algoritmo genético simple\n",
        "Suponga que una empresa quiere diseñar una bicicleta nueva y necesita considerar los siguientes costos:\n",
        "\n",
        "- $700,000 costos para instalación de manufactura, marketing, etc.\n",
        "- $110 costo por cada bicicleta producida\n",
        "\n",
        "Basándose en bicicletas similares, la empresa espera que las ventas sigan esta curva de demanda:\n",
        "\n",
        "$Q= 70,000 - 200P$,<br>\n",
        "donde P es el precio y Q es el número de unidades vendidas a ese precio\n",
        "\n",
        "- A \\$200 la empresa venderia: 70000 - 200 * 200 = 30000 unds\n",
        "- A \\$300 la empresa venderia: 70000 - 200 * 300 = 10000 unds\n",
        "- At \\$350 la empresa no venderia nada 0 unds\n",
        "\n",
        "La ganancia se calcularía de la siguiente manera:\n",
        "\n",
        "$Profit=Sales-Costs$<br>\n",
        "$Profit=P(70,000-200P)-(700,000+110(70,000-200P))$<br>\n",
        "$Profit=-200P^2+92,000P-8,400,000$"
      ]
    },
    {
      "cell_type": "code",
      "execution_count": null,
      "metadata": {
        "id": "Ga1oHOSV1Syx"
      },
      "outputs": [],
      "source": [
        "import random\n",
        "import math\n",
        "from tqdm.notebook import tqdm\n",
        "from copy import copy\n",
        "import matplotlib.pyplot as plt"
      ]
    },
    {
      "cell_type": "markdown",
      "metadata": {
        "id": "CCmZPwga1Syz"
      },
      "source": [
        "### Poblacion Inicial"
      ]
    },
    {
      "cell_type": "code",
      "execution_count": null,
      "metadata": {
        "id": "11II76XL1Sy0"
      },
      "outputs": [],
      "source": [
        "# Generamos una poblacion inicial de forma aleatoria\n",
        "def init_pop(pop_size, chromosome_length):\n",
        "    ints = [random.randint(0,350) for i in range(pop_size)]\n",
        "    strs = [bin(n)[2:].zfill(chromosome_length) for n in ints]\n",
        "    bins = [[int(x) for x in n] for n in strs]\n",
        "    return bins"
      ]
    },
    {
      "cell_type": "markdown",
      "metadata": {
        "id": "PKXr6rrc1Sy1"
      },
      "source": [
        "### Fitness"
      ]
    },
    {
      "cell_type": "code",
      "execution_count": null,
      "metadata": {
        "id": "37rBfMZW1Sy1"
      },
      "outputs": [],
      "source": [
        "# Para una poblacion dada se calcula el fitness\n",
        "def fitness_score(population):\n",
        "    fitness_values = []\n",
        "    num = []\n",
        "    for i in range(len(population)):\n",
        "        num.append(int(\"\".join(str(x) for x in population[i]), base=2))  # convert binary to decimal\n",
        "        fitness_values.append(-200 * math.pow(num[i],2) + 92000 * num[i] - 8400000)\n",
        "    tuples = zip(*sorted(zip(fitness_values,population),reverse=True))\n",
        "    fitness_values, population = [list(t) for t in tuples]\n",
        "    return fitness_values, population"
      ]
    },
    {
      "cell_type": "code",
      "source": [
        "# la funcion fitnes_score primero convierte la poblacion en un numero binario o genotipo\n",
        "# la funcion devuelve la mejor descendencia\n",
        "# en resumen la funcion indica que tan bueno es un descendiente"
      ],
      "metadata": {
        "id": "Knxq3u5E6lyn"
      },
      "execution_count": null,
      "outputs": []
    },
    {
      "cell_type": "markdown",
      "metadata": {
        "id": "vg_1ElKt1Sy2"
      },
      "source": [
        "### Seleccion de Padres - Cruce - Mutacion"
      ]
    },
    {
      "cell_type": "code",
      "execution_count": null,
      "metadata": {
        "id": "5mSuejqd1Sy2"
      },
      "outputs": [],
      "source": [
        "# Seleccionamos un padre de forma aleatoria\n",
        "def select_parent(population, num_parents):\n",
        "    parents=random.sample(population, num_parents)\n",
        "    return parents"
      ]
    },
    {
      "cell_type": "code",
      "execution_count": null,
      "metadata": {
        "id": "EtUDbHp51Sy2"
      },
      "outputs": [],
      "source": [
        "# Aplicar cruce de 1 punto\n",
        "def crossover(parents, crossover_prob):\n",
        "    chromosome_length = len(parents[0])\n",
        "    if crossover_prob > random.random():\n",
        "        cross_point = random.randint(0,chromosome_length)\n",
        "        parents+= tuple([(parents[0][0:cross_point +1] +parents[1][cross_point+1:(chromosome_length+1)])])\n",
        "        parents+= tuple([(parents[1][0:cross_point +1] +parents[0][cross_point+1:(chromosome_length+1)])])\n",
        "    return parents"
      ]
    },
    {
      "cell_type": "code",
      "source": [
        "# La función de cruce aquí primero determina si se produce un cruce (usando el crossover_prob)\n",
        "# y luego selecciona un punto de cruce aleatorio en el cromosoma. Usando cruce de 1 punto\n",
        "# las mitades inferiores se intercambian los padres."
      ],
      "metadata": {
        "colab": {
          "base_uri": "https://localhost:8080/",
          "height": 54
        },
        "id": "5tmNVZqO7ycR",
        "outputId": "48126bbc-1793-41d2-b31d-c8ec90b6e0be"
      },
      "execution_count": null,
      "outputs": [
        {
          "output_type": "execute_result",
          "data": {
            "text/plain": [
              "'La función de cruce aquí primero determina si se produce un cruce (usando el crossover_prob) \\ny luego selecciona un punto de cruce aleatorio en el cromosoma. Usando cruce de 1 punto\\nlas mitades inferiores se intercambian los padres.'"
            ],
            "application/vnd.google.colaboratory.intrinsic+json": {
              "type": "string"
            }
          },
          "metadata": {},
          "execution_count": 8
        }
      ]
    },
    {
      "cell_type": "code",
      "execution_count": null,
      "metadata": {
        "id": "Kp0OOSl41Sy3"
      },
      "outputs": [],
      "source": [
        "# Modificamos cada gen de forma independiente con una probabilidad 'mutación_prob'\n",
        "def mutation(population, mutation_prob) :\n",
        "    chromosome_length = len(population[0])\n",
        "    for i in range(len(population)-1) :\n",
        "        for j in range(chromosome_length-1) :\n",
        "            if mutation_prob > random.random():\n",
        "                if population[i][j]==1:\n",
        "                    population[i][j]=0\n",
        "                else:\n",
        "                    population[i][j]=1\n",
        "    return population"
      ]
    },
    {
      "cell_type": "markdown",
      "metadata": {
        "id": "gKYTWgZ-1Sy3"
      },
      "source": [
        "### Solucion"
      ]
    },
    {
      "cell_type": "code",
      "execution_count": null,
      "metadata": {
        "id": "G1DRXBJQ1Sy3"
      },
      "outputs": [],
      "source": [
        "def SGA(population, num_gen, num_parents, crossover_prob, mutation_prob, use_tqdm = False):\n",
        "    states = []\n",
        "    best_solution = []\n",
        "    best_score = 0\n",
        "    if use_tqdm: pbar = tqdm(total=num_gen)\n",
        "    for _ in range(num_gen):\n",
        "        if use_tqdm: pbar.update()\n",
        "        # Get population fitness\n",
        "        scores, population = fitness_score(population)\n",
        "        current_best_score = scores[0]\n",
        "        current_best_solution = population[0]\n",
        "        states.append(current_best_score)\n",
        "        if current_best_score > best_score:\n",
        "            best_score = current_best_score\n",
        "            best_solution = int(\"\".join(str(x) for x in copy(current_best_solution)), base=2)\n",
        "        parents = select_parent(population, num_parents)\n",
        "        parents = crossover(parents, crossover_prob)\n",
        "        population = mutation(population,mutation_prob)\n",
        "    return best_solution, best_score, states"
      ]
    },
    {
      "cell_type": "markdown",
      "metadata": {
        "id": "TuwK5dZ51Sy4"
      },
      "source": [
        "### Parameters"
      ]
    },
    {
      "cell_type": "code",
      "execution_count": null,
      "metadata": {
        "id": "1qJyCGyM1Sy4"
      },
      "outputs": [],
      "source": [
        "# SGA Parameters\n",
        "num_gen = 20000\n",
        "pop_size = 70\n",
        "crossover_prob = 0.7\n",
        "mutation_prob = 0.3\n",
        "num_parents = 2\n",
        "\n",
        "# Solution representation\n",
        "chromosome_length = 9\n",
        "best_score = -100000\n",
        "\n",
        "# Initialize the \"best solution\"\n",
        "population = init_pop(pop_size, chromosome_length)"
      ]
    },
    {
      "cell_type": "markdown",
      "metadata": {
        "id": "M3cqmU2W1Sy4"
      },
      "source": [
        "### Results and Visualization"
      ]
    },
    {
      "cell_type": "code",
      "execution_count": null,
      "metadata": {
        "colab": {
          "base_uri": "https://localhost:8080/",
          "height": 533,
          "referenced_widgets": [
            "6e60add0d5e64f53b7ef2fcc711b0629",
            "9ff37f3b8ee14d0094bc41ff258e7573",
            "5a61b3d47e1342359e22e77cb31c96f6",
            "f9384cf3561a4751a668c5954c6d8001",
            "8d27c77982254ffda92f41c56cb92b60",
            "2ee06190a2234bb391bd52b586d9f339",
            "7a039bd016ff468f8503fa86daaf7638",
            "b2d08ba699ad45ceb49aa45be0c5fba8",
            "2272d5ccdc11400694676481aefa83c0",
            "a62a9792e2374e9eba9dc9b1ff4789f3",
            "e77b6463adca4853864c4d9058002cc7"
          ]
        },
        "id": "hqu7qB-M1Sy4",
        "outputId": "950cb80c-f72f-40ea-e05f-e870da63c559"
      },
      "outputs": [
        {
          "output_type": "display_data",
          "data": {
            "text/plain": [
              "  0%|          | 0/20000 [00:00<?, ?it/s]"
            ],
            "application/vnd.jupyter.widget-view+json": {
              "version_major": 2,
              "version_minor": 0,
              "model_id": "6e60add0d5e64f53b7ef2fcc711b0629"
            }
          },
          "metadata": {}
        },
        {
          "output_type": "stream",
          "name": "stdout",
          "text": [
            "Mejor Solucion: 230\n",
            "Best Score: 2180000.0\n"
          ]
        },
        {
          "output_type": "display_data",
          "data": {
            "text/plain": [
              "<Figure size 640x480 with 1 Axes>"
            ],
            "image/png": "[encoded data removed]"
          },
          "metadata": {}
        }
      ],
      "source": [
        "best_solution, best_score, states = SGA(\n",
        "    population, num_gen, num_parents, crossover_prob, mutation_prob, use_tqdm=True\n",
        ")\n",
        "\n",
        "print(f\"Mejor Solucion: {best_solution}\")\n",
        "print(f\"Best Score: {best_score}\")\n",
        "plt.plot(states)\n",
        "plt.xlabel(\"Generations\")\n",
        "plt.ylabel(\"Cost\")\n",
        "plt.show()\n",
        "\n"
      ]
    },
    {
      "cell_type": "markdown",
      "metadata": {
        "id": "fiX6NFg71Sy6"
      },
      "source": [
        "We can also easily verify that the solution is indeed **230**, as the maximum of the profit function (solution to the derivative) is 230:\n",
        "\n",
        "$Profit=-200P^2+92,000P-8,400,000$<br>\n",
        "$\\frac{dP}{dProfit}=-400P + 92000$<br>\n",
        "Set $\\frac{dP}{dProfit}=0$<br>\n",
        "$400P = 92000$<br>\n",
        "$P=230$"
      ]
    }
  ],
  "metadata": {
    "interpreter": {
      "hash": "a405b721b341898b1c612734a812e53b99bd4311cd409aa0073bcfbe1e3bbb80"
    },
    "kernelspec": {
      "display_name": "Python 3.8.10 64-bit ('book-env': venv)",
      "name": "python3"
    },
    "language_info": {
      "codemirror_mode": {
        "name": "ipython",
        "version": 3
      },
      "file_extension": ".py",
      "mimetype": "text/x-python",
      "name": "python",
      "nbconvert_exporter": "python",
      "pygments_lexer": "ipython3",
      "version": "3.8.10"
    },
    "orig_nbformat": 4,
    "colab": {
      "provenance": []
    },
    "widgets": {
      "application/vnd.jupyter.widget-state+json": {
        "6e60add0d5e64f53b7ef2fcc711b0629": {
          "model_module": "@jupyter-widgets/controls",
          "model_name": "HBoxModel",
          "model_module_version": "1.5.0",
          "state": {
            "_dom_classes": [],
            "_model_module": "@jupyter-widgets/controls",
            "_model_module_version": "1.5.0",
            "_model_name": "HBoxModel",
            "_view_count": null,
            "_view_module": "@jupyter-widgets/controls",
            "_view_module_version": "1.5.0",
            "_view_name": "HBoxView",
            "box_style": "",
            "children": [
              "IPY_MODEL_9ff37f3b8ee14d0094bc41ff258e7573",
              "IPY_MODEL_5a61b3d47e1342359e22e77cb31c96f6",
              "IPY_MODEL_f9384cf3561a4751a668c5954c6d8001"
            ],
            "layout": "IPY_MODEL_8d27c77982254ffda92f41c56cb92b60"
          }
        },
        "9ff37f3b8ee14d0094bc41ff258e7573": {
          "model_module": "@jupyter-widgets/controls",
          "model_name": "HTMLModel",
          "model_module_version": "1.5.0",
          "state": {
            "_dom_classes": [],
            "_model_module": "@jupyter-widgets/controls",
            "_model_module_version": "1.5.0",
            "_model_name": "HTMLModel",
            "_view_count": null,
            "_view_module": "@jupyter-widgets/controls",
            "_view_module_version": "1.5.0",
            "_view_name": "HTMLView",
            "description": "",
            "description_tooltip": null,
            "layout": "IPY_MODEL_2ee06190a2234bb391bd52b586d9f339",
            "placeholder": "​",
            "style": "IPY_MODEL_7a039bd016ff468f8503fa86daaf7638",
            "value": "100%"
          }
        },
        "5a61b3d47e1342359e22e77cb31c96f6": {
          "model_module": "@jupyter-widgets/controls",
          "model_name": "FloatProgressModel",
          "model_module_version": "1.5.0",
          "state": {
            "_dom_classes": [],
            "_model_module": "@jupyter-widgets/controls",
            "_model_module_version": "1.5.0",
            "_model_name": "FloatProgressModel",
            "_view_count": null,
            "_view_module": "@jupyter-widgets/controls",
            "_view_module_version": "1.5.0",
            "_view_name": "ProgressView",
            "bar_style": "success",
            "description": "",
            "description_tooltip": null,
            "layout": "IPY_MODEL_b2d08ba699ad45ceb49aa45be0c5fba8",
            "max": 20000,
            "min": 0,
            "orientation": "horizontal",
            "style": "IPY_MODEL_2272d5ccdc11400694676481aefa83c0",
            "value": 20000
          }
        },
        "f9384cf3561a4751a668c5954c6d8001": {
          "model_module": "@jupyter-widgets/controls",
          "model_name": "HTMLModel",
          "model_module_version": "1.5.0",
          "state": {
            "_dom_classes": [],
            "_model_module": "@jupyter-widgets/controls",
            "_model_module_version": "1.5.0",
            "_model_name": "HTMLModel",
            "_view_count": null,
            "_view_module": "@jupyter-widgets/controls",
            "_view_module_version": "1.5.0",
            "_view_name": "HTMLView",
            "description": "",
            "description_tooltip": null,
            "layout": "IPY_MODEL_a62a9792e2374e9eba9dc9b1ff4789f3",
            "placeholder": "​",
            "style": "IPY_MODEL_e77b6463adca4853864c4d9058002cc7",
            "value": " 20000/20000 [00:15&lt;00:00, 589.90it/s]"
          }
        },
        "8d27c77982254ffda92f41c56cb92b60": {
          "model_module": "@jupyter-widgets/base",
          "model_name": "LayoutModel",
          "model_module_version": "1.2.0",
          "state": {
            "_model_module": "@jupyter-widgets/base",
            "_model_module_version": "1.2.0",
            "_model_name": "LayoutModel",
            "_view_count": null,
            "_view_module": "@jupyter-widgets/base",
            "_view_module_version": "1.2.0",
            "_view_name": "LayoutView",
            "align_content": null,
            "align_items": null,
            "align_self": null,
            "border": null,
            "bottom": null,
            "display": null,
            "flex": null,
            "flex_flow": null,
            "grid_area": null,
            "grid_auto_columns": null,
            "grid_auto_flow": null,
            "grid_auto_rows": null,
            "grid_column": null,
            "grid_gap": null,
            "grid_row": null,
            "grid_template_areas": null,
            "grid_template_columns": null,
            "grid_template_rows": null,
            "height": null,
            "justify_content": null,
            "justify_items": null,
            "left": null,
            "margin": null,
            "max_height": null,
            "max_width": null,
            "min_height": null,
            "min_width": null,
            "object_fit": null,
            "object_position": null,
            "order": null,
            "overflow": null,
            "overflow_x": null,
            "overflow_y": null,
            "padding": null,
            "right": null,
            "top": null,
            "visibility": null,
            "width": null
          }
        },
        "2ee06190a2234bb391bd52b586d9f339": {
          "model_module": "@jupyter-widgets/base",
          "model_name": "LayoutModel",
          "model_module_version": "1.2.0",
          "state": {
            "_model_module": "@jupyter-widgets/base",
            "_model_module_version": "1.2.0",
            "_model_name": "LayoutModel",
            "_view_count": null,
            "_view_module": "@jupyter-widgets/base",
            "_view_module_version": "1.2.0",
            "_view_name": "LayoutView",
            "align_content": null,
            "align_items": null,
            "align_self": null,
            "border": null,
            "bottom": null,
            "display": null,
            "flex": null,
            "flex_flow": null,
            "grid_area": null,
            "grid_auto_columns": null,
            "grid_auto_flow": null,
            "grid_auto_rows": null,
            "grid_column": null,
            "grid_gap": null,
            "grid_row": null,
            "grid_template_areas": null,
            "grid_template_columns": null,
            "grid_template_rows": null,
            "height": null,
            "justify_content": null,
            "justify_items": null,
            "left": null,
            "margin": null,
            "max_height": null,
            "max_width": null,
            "min_height": null,
            "min_width": null,
            "object_fit": null,
            "object_position": null,
            "order": null,
            "overflow": null,
            "overflow_x": null,
            "overflow_y": null,
            "padding": null,
            "right": null,
            "top": null,
            "visibility": null,
            "width": null
          }
        },
        "7a039bd016ff468f8503fa86daaf7638": {
          "model_module": "@jupyter-widgets/controls",
          "model_name": "DescriptionStyleModel",
          "model_module_version": "1.5.0",
          "state": {
            "_model_module": "@jupyter-widgets/controls",
            "_model_module_version": "1.5.0",
            "_model_name": "DescriptionStyleModel",
            "_view_count": null,
            "_view_module": "@jupyter-widgets/base",
            "_view_module_version": "1.2.0",
            "_view_name": "StyleView",
            "description_width": ""
          }
        },
        "b2d08ba699ad45ceb49aa45be0c5fba8": {
          "model_module": "@jupyter-widgets/base",
          "model_name": "LayoutModel",
          "model_module_version": "1.2.0",
          "state": {
            "_model_module": "@jupyter-widgets/base",
            "_model_module_version": "1.2.0",
            "_model_name": "LayoutModel",
            "_view_count": null,
            "_view_module": "@jupyter-widgets/base",
            "_view_module_version": "1.2.0",
            "_view_name": "LayoutView",
            "align_content": null,
            "align_items": null,
            "align_self": null,
            "border": null,
            "bottom": null,
            "display": null,
            "flex": null,
            "flex_flow": null,
            "grid_area": null,
            "grid_auto_columns": null,
            "grid_auto_flow": null,
            "grid_auto_rows": null,
            "grid_column": null,
            "grid_gap": null,
            "grid_row": null,
            "grid_template_areas": null,
            "grid_template_columns": null,
            "grid_template_rows": null,
            "height": null,
            "justify_content": null,
            "justify_items": null,
            "left": null,
            "margin": null,
            "max_height": null,
            "max_width": null,
            "min_height": null,
            "min_width": null,
            "object_fit": null,
            "object_position": null,
            "order": null,
            "overflow": null,
            "overflow_x": null,
            "overflow_y": null,
            "padding": null,
            "right": null,
            "top": null,
            "visibility": null,
            "width": null
          }
        },
        "2272d5ccdc11400694676481aefa83c0": {
          "model_module": "@jupyter-widgets/controls",
          "model_name": "ProgressStyleModel",
          "model_module_version": "1.5.0",
          "state": {
            "_model_module": "@jupyter-widgets/controls",
            "_model_module_version": "1.5.0",
            "_model_name": "ProgressStyleModel",
            "_view_count": null,
            "_view_module": "@jupyter-widgets/base",
            "_view_module_version": "1.2.0",
            "_view_name": "StyleView",
            "bar_color": null,
            "description_width": ""
          }
        },
        "a62a9792e2374e9eba9dc9b1ff4789f3": {
          "model_module": "@jupyter-widgets/base",
          "model_name": "LayoutModel",
          "model_module_version": "1.2.0",
          "state": {
            "_model_module": "@jupyter-widgets/base",
            "_model_module_version": "1.2.0",
            "_model_name": "LayoutModel",
            "_view_count": null,
            "_view_module": "@jupyter-widgets/base",
            "_view_module_version": "1.2.0",
            "_view_name": "LayoutView",
            "align_content": null,
            "align_items": null,
            "align_self": null,
            "border": null,
            "bottom": null,
            "display": null,
            "flex": null,
            "flex_flow": null,
            "grid_area": null,
            "grid_auto_columns": null,
            "grid_auto_flow": null,
            "grid_auto_rows": null,
            "grid_column": null,
            "grid_gap": null,
            "grid_row": null,
            "grid_template_areas": null,
            "grid_template_columns": null,
            "grid_template_rows": null,
            "height": null,
            "justify_content": null,
            "justify_items": null,
            "left": null,
            "margin": null,
            "max_height": null,
            "max_width": null,
            "min_height": null,
            "min_width": null,
            "object_fit": null,
            "object_position": null,
            "order": null,
            "overflow": null,
            "overflow_x": null,
            "overflow_y": null,
            "padding": null,
            "right": null,
            "top": null,
            "visibility": null,
            "width": null
          }
        },
        "e77b6463adca4853864c4d9058002cc7": {
          "model_module": "@jupyter-widgets/controls",
          "model_name": "DescriptionStyleModel",
          "model_module_version": "1.5.0",
          "state": {
            "_model_module": "@jupyter-widgets/controls",
            "_model_module_version": "1.5.0",
            "_model_name": "DescriptionStyleModel",
            "_view_count": null,
            "_view_module": "@jupyter-widgets/base",
            "_view_module_version": "1.2.0",
            "_view_name": "StyleView",
            "description_width": ""
          }
        }
      }
    }
  },
  "nbformat": 4,
  "nbformat_minor": 0
}